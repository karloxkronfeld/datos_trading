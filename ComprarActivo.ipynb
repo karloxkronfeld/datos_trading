{
  "nbformat": 4,
  "nbformat_minor": 0,
  "metadata": {
    "colab": {
      "name": "ComprarActivo.ipynb",
      "provenance": [],
      "authorship_tag": "ABX9TyMkP8kYQOy8X76awD/h+qi/"
    },
    "kernelspec": {
      "name": "python3",
      "display_name": "Python 3"
    },
    "language_info": {
      "name": "python"
    }
  },
  "cells": [
    {
      "cell_type": "code",
      "execution_count": null,
      "metadata": {
        "id": "yvA6Pp6X3-0S"
      },
      "outputs": [],
      "source": [
        "import MetaTrader5 as mt5\n",
        "\n",
        "mt5.initialize()\n",
        "\n",
        "request = {\n",
        "        \"action\":mt5.TRADE_ACTION_DEAL,\n",
        "        \"symbol\":'BTCUSD',\n",
        "        \"type\" : mt5.ORDER_TYPE_BUY,\n",
        "        \"price\": mt5.symbol_info_tick('BTCUSD').ask,\n",
        "        \"volume\":0.01,\n",
        "        \"comment\":'NOMBRE',\n",
        "        \"type_filling\":mt5.ORDER_FILLING_IOC\n",
        "}\n",
        "\n",
        "result = mt5.order_send(request)\n",
        "print(\"Orden enviada en {}\".format(\"BTCUSD\"));\n",
        "if result.retcode != mt5.TRADE_RETCODE_DONE:\n",
        "    print(\"ERROR: {} \".format(result.comment))\n",
        "\n",
        "    #"
      ]
    }
  ]
}